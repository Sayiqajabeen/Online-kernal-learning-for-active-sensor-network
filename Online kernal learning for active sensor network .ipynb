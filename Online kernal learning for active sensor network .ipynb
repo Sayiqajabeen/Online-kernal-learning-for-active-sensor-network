{
 "cells": [
  {
   "cell_type": "code",
   "execution_count": 1,
   "id": "1e8b7e39-cd49-44ea-b1dc-b9cb8e4d9ab4",
   "metadata": {},
   "outputs": [
    {
     "name": "stdout",
     "output_type": "stream",
     "text": [
      "Defaulting to user installation because normal site-packages is not writeable\n",
      "Requirement already satisfied: numpy in c:\\users\\ali com\\appdata\\roaming\\python\\python312\\site-packages (1.26.4)\n",
      "Requirement already satisfied: scikit-learn in c:\\programdata\\anaconda3\\lib\\site-packages (1.4.2)\n",
      "Requirement already satisfied: scipy>=1.6.0 in c:\\programdata\\anaconda3\\lib\\site-packages (from scikit-learn) (1.13.1)\n",
      "Requirement already satisfied: joblib>=1.2.0 in c:\\programdata\\anaconda3\\lib\\site-packages (from scikit-learn) (1.4.2)\n",
      "Requirement already satisfied: threadpoolctl>=2.0.0 in c:\\programdata\\anaconda3\\lib\\site-packages (from scikit-learn) (2.2.0)\n"
     ]
    }
   ],
   "source": [
    "#Online kernal learning for active sensor network \n",
    "# This code demonstrates how to integrate online learning with a simple active learning strategy. We'll simulate a basic sensor  \n",
    "# data stream and implement a kernelized learning model using the scikit-learn library.\n",
    "!pip install numpy scikit-learn"
   ]
  },
  {
   "cell_type": "code",
   "execution_count": null,
   "id": "b128dfde-5eda-4c08-99cc-06d05dbd96c0",
   "metadata": {},
   "outputs": [],
   "source": [
    "# OnlineKernelLearning Class: This class implements online learning using a kernel approximation (RBF kernel) and stochastic \n",
    "# gradient descent (SGD) for classification. It supports both fitting and prediction.\n"
   ]
  },
  {
   "cell_type": "code",
   "execution_count": 3,
   "id": "3791da91-bf64-4f82-bbfd-255008937798",
   "metadata": {},
   "outputs": [
    {
     "name": "stdout",
     "output_type": "stream",
     "text": [
      "Uncertain indices: [3 4 0 1 2]\n",
      "Uncertain indices: [4 1 2 3 0]\n",
      "Uncertain indices: [2 3 4 1 0]\n",
      "Uncertain indices: [1 0 4 3 2]\n",
      "Uncertain indices: [0 4 1 2 3]\n",
      "Uncertain indices: [0 4 2 1 3]\n",
      "Uncertain indices: [0 3 1 4 2]\n",
      "Uncertain indices: [4 2 0 3 1]\n",
      "Uncertain indices: [3 4 2 0 1]\n",
      "Accuracy on new data: 0.92\n"
     ]
    }
   ],
   "source": [
    "class OnlineKernelLearning:\n",
    "    def __init__(self, n_features, gamma=1.0):\n",
    "        self.rbf_feature = RBFSampler(gamma=gamma, n_components=n_features)\n",
    "        self.base_model = SGDClassifier(loss='hinge', warm_start=True)\n",
    "        self.model = CalibratedClassifierCV(self.base_model)  \n",
    "        self.is_fitted = False\n",
    "        self.X_accumulated = []\n",
    "        self.y_accumulated = []\n",
    "        self.classes_ = None \n",
    "\n",
    "    def fit(self, X, y):\n",
    "        self.X_accumulated.extend(X)\n",
    "        self.y_accumulated.extend(y)\n",
    "        X_transformed = self.rbf_feature.fit_transform(self.X_accumulated)\n",
    "        \n",
    "        if not self.is_fitted:\n",
    "            self.classes_ = np.unique(y)\n",
    "            self.base_model.partial_fit(X_transformed, self.y_accumulated, classes=self.classes_)  # Call partial_fit on base model first\n",
    "            self.model.fit(X_transformed, self.y_accumulated)  # Then fit the calibrated model\n",
    "            self.is_fitted = True\n",
    "        else:\n",
    "            self.base_model.partial_fit(X_transformed, self.y_accumulated)  # Subsequent calls to partial_fit on base model\n",
    "            self.model = CalibratedClassifierCV(self.base_model) # Re-calibrate the model with the updated base model\n",
    "            self.model.fit(X_transformed, self.y_accumulated)  # Re-fit the calibrated model\n",
    "    def predict(self, X):\n",
    "        X_transformed = self.rbf_feature.transform(X)\n",
    "        return self.model.predict(X_transformed)\n",
    "\n",
    "def simulate_sensor_data(n_samples):\n",
    "    # Simulating some sensor data\n",
    "    X = np.random.rand(n_samples, 2)  # 2 features\n",
    "    y = (X[:, 0] + X[:, 1] > 1).astype(int)  # Simple decision boundary\n",
    "    return X, y\n",
    "# def predict_proba(self, X):\n",
    "#         X_transformed = self.rbf_feature.transform(X)\n",
    "#         return self.model.predict_proba(X_transformed)\n",
    "# \n",
    "\n",
    "#\n",
    "def uncertainty_sampling(model, X, n_samples=5):\n",
    "    # Transform input data before prediction\n",
    "    X_transformed = model.rbf_feature.transform(X) \n",
    "    probabilities = model.model.predict_proba(X_transformed)\n",
    "    uncertainty = 1 - np.max(probabilities, axis=1)\n",
    "    uncertain_indices = np.argsort(uncertainty)[-n_samples:]\n",
    "    return uncertain_indices\n",
    "\n",
    "## Main Simulation Loop:\n",
    "# Initial data is generated and used to fit the model.\n",
    "# New sensor data is simulated and processed one sample at a time.\n",
    "# Every few samples, the model checks for uncertainty and prints uncertain indices.\n",
    "# Main Simulation Loop\n",
    "n_initial_samples = 20\n",
    "n_new_samples = 50\n",
    "n_features = 100\n",
    "\n",
    "# Initialize online kernel learner\n",
    "online_model = OnlineKernelLearning(n_features=n_features)\n",
    "\n",
    "# Simulate initial data\n",
    "X_initial, y_initial = simulate_sensor_data(n_initial_samples)\n",
    "online_model.fit(X_initial, y_initial)\n",
    "# Simulating Sensor Data: The simulate_sensor_data function generates random data for demonstration purposes. \n",
    "# The labels are assigned based on a simple decision boundary.\n",
    "# Simulate new incoming sensor data\n",
    "X_new, y_new = simulate_sensor_data(n_new_samples)\n",
    "\n",
    "# for i in range(n_new_samples):\n",
    "#     # Fit model with new data\n",
    "#     online_model.fit(X_new[i:i+1], y_new[i:i+1])\n",
    "    \n",
    "# Uncertainty Sampling: The uncertainty_sampling function selects samples that the model \n",
    "# is most uncertain about, which can be queried for labels.\n",
    "for i in range(n_new_samples):\n",
    "    # ...\n",
    "\n",
    "    # Active learning: choose next sample based on uncertainty\n",
    "    if (i + 1) % 5 == 0:  # Every 5 samples\n",
    "        # Check if there are enough samples for uncertainty sampling\n",
    "        remaining_samples = len(X_new) - (i + 1)  \n",
    "        if remaining_samples > 0:\n",
    "            # Use min to ensure we don't try to select more samples than available\n",
    "            num_samples_to_select = min(remaining_samples, 5) \n",
    "            uncertain_indices = uncertainty_sampling(online_model, X_new[i+1:i+1+num_samples_to_select])\n",
    "            print(f\"Uncertain indices: {uncertain_indices}\")\n",
    "\n",
    "\n",
    "#Accuracy Evaluation: At the end of the process, the accuracy of the model on the new data is printed\n",
    "# Evaluation\n",
    "y_pred = online_model.predict(X_new)\n",
    "accuracy = accuracy_score(y_new, y_pred)\n",
    "print(f\"Accuracy on new data: {accuracy:.2f}\")"
   ]
  },
  {
   "cell_type": "code",
   "execution_count": null,
   "id": "0a7da45b-0ea2-477f-b0d2-627bcc452f5d",
   "metadata": {},
   "outputs": [],
   "source": []
  },
  {
   "cell_type": "code",
   "execution_count": null,
   "id": "e0311f38-acf0-46e5-a63f-b7b7c531a51b",
   "metadata": {},
   "outputs": [],
   "source": []
  },
  {
   "cell_type": "code",
   "execution_count": null,
   "id": "34fb46a6-3cf3-4fef-b690-705ca1e09382",
   "metadata": {},
   "outputs": [],
   "source": []
  },
  {
   "cell_type": "code",
   "execution_count": null,
   "id": "30af6594-2a9c-46f1-95dc-5e5e867406f8",
   "metadata": {},
   "outputs": [],
   "source": []
  },
  {
   "cell_type": "code",
   "execution_count": null,
   "id": "2c1e225f-e458-4c66-b82a-f1c7352bd998",
   "metadata": {},
   "outputs": [],
   "source": [
    "\n",
    "#python active_sensor_network.py\n"
   ]
  }
 ],
 "metadata": {
  "kernelspec": {
   "display_name": "Python 3 (ipykernel)",
   "language": "python",
   "name": "python3"
  },
  "language_info": {
   "codemirror_mode": {
    "name": "ipython",
    "version": 3
   },
   "file_extension": ".py",
   "mimetype": "text/x-python",
   "name": "python",
   "nbconvert_exporter": "python",
   "pygments_lexer": "ipython3",
   "version": "3.12.4"
  }
 },
 "nbformat": 4,
 "nbformat_minor": 5
}
